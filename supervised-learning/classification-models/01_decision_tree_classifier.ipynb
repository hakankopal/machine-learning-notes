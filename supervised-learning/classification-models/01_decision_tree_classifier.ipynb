{
 "cells": [
  {
   "attachments": {},
   "cell_type": "markdown",
   "metadata": {},
   "source": [
    "# Decision Tree Classification"
   ]
  },
  {
   "attachments": {},
   "cell_type": "markdown",
   "metadata": {},
   "source": [
    "## 1. Importing Packages"
   ]
  },
  {
   "cell_type": "code",
   "execution_count": 21,
   "metadata": {},
   "outputs": [],
   "source": [
    "import warnings\n",
    "import joblib\n",
    "import pydotplus\n",
    "import numpy as np\n",
    "import pandas as pd\n",
    "from matplotlib import pyplot as plt\n",
    "import seaborn as sns\n",
    "from sklearn.tree import DecisionTreeClassifier, export_graphviz, export_text\n",
    "from sklearn.model_selection import train_test_split, GridSearchCV\n",
    "from sklearn.metrics import classification_report, confusion_matrix, roc_auc_score\n",
    "from sklearn.datasets import load_breast_cancer\n",
    "\n",
    "pd.set_option('display.max_columns', None)\n",
    "pd.set_option('display.width', 500)\n",
    "\n",
    "warnings.simplefilter(action='ignore', category=Warning)"
   ]
  },
  {
   "attachments": {},
   "cell_type": "markdown",
   "metadata": {},
   "source": [
    "## 2. Data Loading and Preparation"
   ]
  },
  {
   "cell_type": "code",
   "execution_count": 11,
   "metadata": {},
   "outputs": [
    {
     "name": "stdout",
     "output_type": "stream",
     "text": [
      "   mean radius  mean texture  mean perimeter  mean area  mean smoothness  mean compactness  mean concavity  mean concave points  mean symmetry  mean fractal dimension  radius error  texture error  perimeter error  area error  smoothness error  compactness error  concavity error  concave points error  symmetry error  fractal dimension error  worst radius  worst texture  worst perimeter  worst area  worst smoothness  worst compactness  worst concavity  worst concave points  worst symmetry   \n",
      "0        17.99         10.38          122.80     1001.0          0.11840           0.27760          0.3001              0.14710         0.2419                 0.07871        1.0950         0.9053            8.589      153.40          0.006399            0.04904          0.05373               0.01587         0.03003                 0.006193         25.38          17.33           184.60      2019.0            0.1622             0.6656           0.7119                0.2654          0.4601  \\\n",
      "1        20.57         17.77          132.90     1326.0          0.08474           0.07864          0.0869              0.07017         0.1812                 0.05667        0.5435         0.7339            3.398       74.08          0.005225            0.01308          0.01860               0.01340         0.01389                 0.003532         24.99          23.41           158.80      1956.0            0.1238             0.1866           0.2416                0.1860          0.2750   \n",
      "2        19.69         21.25          130.00     1203.0          0.10960           0.15990          0.1974              0.12790         0.2069                 0.05999        0.7456         0.7869            4.585       94.03          0.006150            0.04006          0.03832               0.02058         0.02250                 0.004571         23.57          25.53           152.50      1709.0            0.1444             0.4245           0.4504                0.2430          0.3613   \n",
      "3        11.42         20.38           77.58      386.1          0.14250           0.28390          0.2414              0.10520         0.2597                 0.09744        0.4956         1.1560            3.445       27.23          0.009110            0.07458          0.05661               0.01867         0.05963                 0.009208         14.91          26.50            98.87       567.7            0.2098             0.8663           0.6869                0.2575          0.6638   \n",
      "4        20.29         14.34          135.10     1297.0          0.10030           0.13280          0.1980              0.10430         0.1809                 0.05883        0.7572         0.7813            5.438       94.44          0.011490            0.02461          0.05688               0.01885         0.01756                 0.005115         22.54          16.67           152.20      1575.0            0.1374             0.2050           0.4000                0.1625          0.2364   \n",
      "\n",
      "   worst fractal dimension  target  \n",
      "0                  0.11890       0  \n",
      "1                  0.08902       0  \n",
      "2                  0.08758       0  \n",
      "3                  0.17300       0  \n",
      "4                  0.07678       0  \n"
     ]
    }
   ],
   "source": [
    "data = load_breast_cancer()\n",
    "\n",
    "X = data.data\n",
    "y = data.target\n",
    "\n",
    "# Get column names for features and target\n",
    "feature_names = data.feature_names\n",
    "target_names = data.target_names\n",
    "\n",
    "# Combine feature matrix X and target vector y into a single array\n",
    "data_array = pd.concat([pd.DataFrame(X, columns=feature_names), pd.DataFrame(y, columns=['target'])], axis=1)\n",
    "\n",
    "# Convert array to pandas DataFrame\n",
    "df = pd.DataFrame(data_array)\n",
    "\n",
    "# Print the first 5 rows of the DataFrame\n",
    "print(df.head())"
   ]
  },
  {
   "attachments": {},
   "cell_type": "markdown",
   "metadata": {},
   "source": [
    "## 3. Modeling using CART"
   ]
  },
  {
   "attachments": {},
   "cell_type": "markdown",
   "metadata": {},
   "source": [
    "### 3.1. without tuning HyperParameters"
   ]
  },
  {
   "cell_type": "code",
   "execution_count": 15,
   "metadata": {},
   "outputs": [
    {
     "name": "stdout",
     "output_type": "stream",
     "text": [
      "              precision    recall  f1-score   support\n",
      "\n",
      "           0       1.00      1.00      1.00       170\n",
      "           1       1.00      1.00      1.00       285\n",
      "\n",
      "    accuracy                           1.00       455\n",
      "   macro avg       1.00      1.00      1.00       455\n",
      "weighted avg       1.00      1.00      1.00       455\n",
      "\n",
      "1.0\n",
      "              precision    recall  f1-score   support\n",
      "\n",
      "           0       0.91      0.93      0.92        42\n",
      "           1       0.96      0.94      0.95        72\n",
      "\n",
      "    accuracy                           0.94       114\n",
      "   macro avg       0.93      0.94      0.93       114\n",
      "weighted avg       0.94      0.94      0.94       114\n",
      "\n",
      "0.9365079365079365\n"
     ]
    }
   ],
   "source": [
    "y = df[\"target\"]\n",
    "X = df.drop([\"target\"], axis=1)\n",
    "\n",
    "# Split the data into train and test sets with stratification\n",
    "X_train, X_test, y_train, y_test = train_test_split(X, y, test_size=0.2, random_state=28, stratify=y)\n",
    "\n",
    "\n",
    "dtc = DecisionTreeClassifier(random_state=28)\n",
    "\n",
    "dtc_model_default = dtc.fit(X_train, y_train)\n",
    "\n",
    "# Train\n",
    "y_pred_train_def = dtc_model_default.predict(X_train)\n",
    "y_prob_train_def = dtc_model_default.predict_proba(X_train)[:, 1]\n",
    "print(classification_report(y_train, y_pred_train_def))\n",
    "print(roc_auc_score(y_train, y_prob_train_def))\n",
    "\n",
    "# Test\n",
    "y_pred_test_def = dtc_model_default.predict(X_test)\n",
    "y_prob_test_def = dtc_model_default.predict_proba(X_test)[:, 1]\n",
    "print(classification_report(y_test, y_pred_test_def))\n",
    "print(roc_auc_score(y_test, y_prob_test_def))"
   ]
  },
  {
   "cell_type": "code",
   "execution_count": 16,
   "metadata": {},
   "outputs": [
    {
     "name": "stdout",
     "output_type": "stream",
     "text": [
      "Fitting 5 folds for each of 180 candidates, totalling 900 fits\n",
      "              precision    recall  f1-score   support\n",
      "\n",
      "           0       0.99      0.98      0.99       170\n",
      "           1       0.99      1.00      0.99       285\n",
      "\n",
      "    accuracy                           0.99       455\n",
      "   macro avg       0.99      0.99      0.99       455\n",
      "weighted avg       0.99      0.99      0.99       455\n",
      "\n",
      "0.9987925696594427\n",
      "              precision    recall  f1-score   support\n",
      "\n",
      "           0       0.98      0.95      0.96        42\n",
      "           1       0.97      0.99      0.98        72\n",
      "\n",
      "    accuracy                           0.97       114\n",
      "   macro avg       0.97      0.97      0.97       114\n",
      "weighted avg       0.97      0.97      0.97       114\n",
      "\n",
      "0.9652777777777777\n"
     ]
    }
   ],
   "source": [
    "dtc = DecisionTreeClassifier(random_state=28)\n",
    "\n",
    "dtc_params = {'max_depth': range(1, 11),\n",
    "               \"min_samples_split\": range(2, 20)}\n",
    "\n",
    "dtc_best_grid = GridSearchCV(dtc,\n",
    "                              dtc_params,\n",
    "                              cv=5,\n",
    "                              n_jobs=-1,\n",
    "                              verbose=1).fit(X_train, y_train)\n",
    "\n",
    "dtc_model_grid = DecisionTreeClassifier(**dtc_best_grid.best_params_, random_state=28).fit(X_train, y_train)\n",
    "\n",
    "\n",
    "# Train\n",
    "\n",
    "y_pred_train_grid = dtc_model_grid.predict(X_train)\n",
    "y_prob_train_grid = dtc_model_grid.predict_proba(X_train)[:, 1]\n",
    "print(classification_report(y_train, y_pred_train_grid))\n",
    "print(roc_auc_score(y_train, y_prob_train_grid))\n",
    "\n",
    "# Test\n",
    "y_pred_test_grid = dtc_model_grid.predict(X_test)\n",
    "y_prob_test_grid = dtc_model_grid.predict_proba(X_test)[:, 1]\n",
    "print(classification_report(y_test, y_pred_test_grid))\n",
    "print(roc_auc_score(y_test, y_prob_test_grid))"
   ]
  },
  {
   "cell_type": "code",
   "execution_count": 28,
   "metadata": {},
   "outputs": [
    {
     "data": {
      "text/plain": [
       "Text(627.9949494949494, 0.5, 'True label')"
      ]
     },
     "execution_count": 28,
     "metadata": {},
     "output_type": "execute_result"
    },
    {
     "data": {
      "image/png": "[encoded data removed]",
      "text/plain": [
       "<Figure size 1200x600 with 4 Axes>"
      ]
     },
     "metadata": {},
     "output_type": "display_data"
    }
   ],
   "source": [
    "# Compare the classification performance of the two models using a confusion matrix\n",
    "fig, ax = plt.subplots(nrows=1, ncols=2, figsize=(12,6))\n",
    "sns.heatmap(confusion_matrix(y_test, y_pred_test_def), ax=ax[0], annot=True, cmap='Blues', fmt='d')\n",
    "sns.heatmap(confusion_matrix(y_test, y_pred_test_grid), ax=ax[1], annot=True, cmap='Blues', fmt='d')\n",
    "ax[0].set_title('Decision Tree Classification \\n without tuning HyperParameters \\n Confusion Matrix')\n",
    "ax[1].set_title('Decision Tree Classification \\n with tuning HyperParameters \\n Confusion Matrix')\n",
    "ax[0].set_xlabel('Predicted label')\n",
    "ax[1].set_xlabel('Predicted label')\n",
    "ax[0].set_ylabel('True label')\n",
    "ax[1].set_ylabel('True label')"
   ]
  },
  {
   "cell_type": "code",
   "execution_count": null,
   "metadata": {},
   "outputs": [],
   "source": []
  }
 ],
 "metadata": {
  "kernelspec": {
   "display_name": "Python 3",
   "language": "python",
   "name": "python3"
  },
  "language_info": {
   "codemirror_mode": {
    "name": "ipython",
    "version": 3
   },
   "file_extension": ".py",
   "mimetype": "text/x-python",
   "name": "python",
   "nbconvert_exporter": "python",
   "pygments_lexer": "ipython3",
   "version": "3.10.4"
  },
  "orig_nbformat": 4
 },
 "nbformat": 4,
 "nbformat_minor": 2
}
